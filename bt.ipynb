{
 "cells": [
  {
   "cell_type": "markdown",
   "metadata": {},
   "source": [
    "# Question 1"
   ]
  },
  {
   "cell_type": "code",
   "execution_count": 7,
   "metadata": {},
   "outputs": [],
   "source": [
    "# dataset\n",
    "import numpy as np\n",
    "import matplotlib.pyplot as plt\n",
    "import random\n",
    "\n",
    "def get_column(data, index):\n",
    "\n",
    "    #your code here ***********************\n",
    "    result = [data[i][index] for i in range(0, len(data))]\n",
    "    return result\n",
    "\n",
    "def prepare_data(file_name_dataset):\n",
    "  data = np.genfromtxt(file_name_dataset, delimiter=',', skip_header=1).tolist()\n",
    "  N = len(data)\n",
    "  #print(N)\n",
    "\n",
    "  # get tv (index=0)\n",
    "  tv_data = get_column(data, 0)\n",
    "\n",
    "  # get radio (index=1)\n",
    "  radio_data = get_column(data, 1)\n",
    "\n",
    "  # get newspaper (index=2)\n",
    "  newspaper_data = get_column(data, 2)\n",
    "\n",
    "  # get sales (index=3)\n",
    "  sales_data = get_column(data, 3)\n",
    "\n",
    "  # building X input  and y output for training\n",
    "  X = [tv_data, radio_data, newspaper_data]\n",
    "  y = sales_data\n",
    "  return X,y\n"
   ]
  },
  {
   "cell_type": "code",
   "execution_count": 8,
   "metadata": {},
   "outputs": [
    {
     "name": "stdout",
     "output_type": "stream",
     "text": [
      "[624.1, 175.1, 300.5, 78.9]\n"
     ]
    }
   ],
   "source": [
    "X, y = prepare_data('advertising.csv')\n",
    "list = [sum(X[0][:5]), sum(X[1][:5]), sum(X[2][:5]), sum(y[:5])]\n",
    "print(list)"
   ]
  },
  {
   "cell_type": "markdown",
   "metadata": {},
   "source": [
    "# Question 2"
   ]
  },
  {
   "cell_type": "code",
   "execution_count": 9,
   "metadata": {},
   "outputs": [],
   "source": [
    "# compute output and loss\n",
    "def predict(x1, x2, x3, w1, w2, w3, b):\n",
    "    result = x1*w1+ x2*w2 + x3*w3 + b\n",
    "    return result\n",
    "\n",
    "def compute_loss_mse(y_hat, y):\n",
    "    result = (y_hat-y)**2\n",
    "        #your code here ***********************\n",
    "\n",
    "    return result\n",
    "\n",
    "def compute_loss_mae(y_hat, y):\n",
    "    result = np.abs(y_hat-y)\n",
    "        #your code here ***********************\n",
    "\n",
    "    return result\n",
    "\n",
    "# compute gradient\n",
    "def compute_gradient_wi(xi, y, y_hat):\n",
    "    dl_dwi = 2*xi*(y_hat-y)\n",
    "         #your code here ***********************\n",
    "\n",
    "    return dl_dwi \n",
    "\n",
    "def compute_gradient_b(y, y_hat):\n",
    "    dl_db = 2*(y_hat-y)\n",
    "         #your code here ***********************\n",
    "\n",
    "    return dl_db\n",
    "\n",
    "# update weights\n",
    "def update_weight_wi(wi, dl_dwi, lr):\n",
    "    wi -= lr*dl_dwi\n",
    "        #your code here ***********************\n",
    "\n",
    "    return wi\n",
    "    \n",
    "def update_weight_b(b, dl_db, lr):    \n",
    "    b -= lr*dl_db\n",
    "         #your code here ***********************\n",
    "\n",
    "    return b"
   ]
  },
  {
   "cell_type": "code",
   "execution_count": 10,
   "metadata": {},
   "outputs": [
    {
     "name": "stdout",
     "output_type": "stream",
     "text": [
      "1.0\n"
     ]
    }
   ],
   "source": [
    "#Multiple choices:\n",
    "#Question 2:\n",
    "y_p = predict(x1 = 1, x2 =1, x3=1, w1=0, w2=0.5, w3=0, b=0.5)\n",
    "print(y_p)"
   ]
  },
  {
   "cell_type": "code",
   "execution_count": 11,
   "metadata": {},
   "outputs": [
    {
     "name": "stdout",
     "output_type": "stream",
     "text": [
      "0.25\n"
     ]
    }
   ],
   "source": [
    "#Multiple choices:\n",
    "#Question 3:\n",
    "l = compute_loss_mse(y_hat=1, y=0.5)\n",
    "print(l)"
   ]
  },
  {
   "cell_type": "code",
   "execution_count": 12,
   "metadata": {},
   "outputs": [
    {
     "name": "stdout",
     "output_type": "stream",
     "text": [
      "0.5\n"
     ]
    }
   ],
   "source": [
    "#Multiple choices:\n",
    "#Question 10:\n",
    "l = compute_loss_mae(y_hat=1, y=0.5)\n",
    "print(l)"
   ]
  },
  {
   "cell_type": "code",
   "execution_count": 13,
   "metadata": {},
   "outputs": [
    {
     "name": "stdout",
     "output_type": "stream",
     "text": [
      "-1.0\n"
     ]
    }
   ],
   "source": [
    "#Multiple choices:\n",
    "#Question 4:\n",
    "g_wi = compute_gradient_wi(xi=1.0, y=1.0, y_hat=0.5)\n",
    "print(g_wi)"
   ]
  },
  {
   "cell_type": "code",
   "execution_count": 14,
   "metadata": {},
   "outputs": [
    {
     "name": "stdout",
     "output_type": "stream",
     "text": [
      "-3.0\n"
     ]
    }
   ],
   "source": [
    "#Multiple choices:\n",
    "#Question 5:\n",
    "g_b =  compute_gradient_b(y=2.0, y_hat=0.5)\n",
    "print(g_b)"
   ]
  },
  {
   "cell_type": "code",
   "execution_count": 15,
   "metadata": {},
   "outputs": [
    {
     "name": "stdout",
     "output_type": "stream",
     "text": [
      "1.000005\n"
     ]
    }
   ],
   "source": [
    "#Multiple choices:\n",
    "#Question 6:\n",
    "after_wi = update_weight_wi(wi=1.0, dl_dwi=-0.5, lr = 1e-5)\n",
    "print(after_wi)"
   ]
  },
  {
   "cell_type": "code",
   "execution_count": 16,
   "metadata": {},
   "outputs": [
    {
     "name": "stdout",
     "output_type": "stream",
     "text": [
      "0.50001\n"
     ]
    }
   ],
   "source": [
    "#Multiple choices:\n",
    "#Question 7:\n",
    "after_b = update_weight_b(b=0.5, dl_db=-1.0, lr = 1e-5)\n",
    "print(after_b) "
   ]
  },
  {
   "cell_type": "markdown",
   "metadata": {},
   "source": [
    "Init Gaussian distribution:"
   ]
  },
  {
   "cell_type": "code",
   "execution_count": 17,
   "metadata": {},
   "outputs": [
    {
     "name": "stdout",
     "output_type": "stream",
     "text": [
      "(0.016992259082509283, 0.0070783670518262355, -0.002307860847821344, 0)\n"
     ]
    }
   ],
   "source": [
    "def initialize_params():\n",
    "    # w1 = random.gauss(mu=0.0, sigma=0.01)\n",
    "    # w2 = random.gauss(mu=0.0, sigma=0.01)\n",
    "    # w3 = random.gauss(mu=0.0, sigma=0.01)\n",
    "    # b  = 0\n",
    "\n",
    "    w1, w2, w3, b = (0.016992259082509283, 0.0070783670518262355, -0.002307860847821344, 0)\n",
    "    return w1, w2, w3, b\n",
    "\n",
    "print(initialize_params())"
   ]
  },
  {
   "cell_type": "code",
   "execution_count": 18,
   "metadata": {},
   "outputs": [],
   "source": [
    "def implement_linear_regression(X_data, y_data, epoch_max = 50,lr = 1e-5):\n",
    "  losses = []\n",
    "\n",
    "  w1, w2, w3, b = initialize_params()\n",
    " \n",
    "  N = len(y_data)\n",
    "  for epoch in range(epoch_max):\n",
    "      for i in range(N):\n",
    "          # get a sample\n",
    "          x1 = X_data[0][i]\n",
    "          x2 = X_data[1][i]\n",
    "          x3 = X_data[2][i]\n",
    "\n",
    "          y  = y_data[i]\n",
    "\n",
    "          # print(y)\n",
    "          # compute output \n",
    "          y_hat = predict(x1, x2, x3, w1, w2, w3, b)\n",
    "          \n",
    "          # compute loss\n",
    "          loss = compute_loss_mse(y, y_hat)\n",
    "\n",
    "          # compute gradient w1, w2, w3, b\n",
    "          dl_dw1 = compute_gradient_wi(x1, y, y_hat)\n",
    "          dl_dw2 = compute_gradient_wi(x2, y, y_hat)\n",
    "          dl_dw3 = compute_gradient_wi(x3, y, y_hat)\n",
    "          dl_db  = compute_gradient_b(y, y_hat)\n",
    "\n",
    "          # update parameters\n",
    "          w1 = update_weight_wi(w1, dl_dw1, lr)\n",
    "          w2 = update_weight_wi(w2, dl_dw2, lr)\n",
    "          w3 = update_weight_wi(w3, dl_dw3, lr)\n",
    "          b  = update_weight_b(b, dl_db, lr)\n",
    "\n",
    "          # logging\n",
    "          losses.append(loss) \n",
    "  return (w1,w2,w3,b, losses)"
   ]
  },
  {
   "cell_type": "code",
   "execution_count": 19,
   "metadata": {},
   "outputs": [
    {
     "data": {
      "image/png": "[encoded data removed]",
      "text/plain": [
       "<Figure size 640x480 with 1 Axes>"
      ]
     },
     "metadata": {},
     "output_type": "display_data"
    }
   ],
   "source": [
    "X,y = prepare_data('advertising.csv')\n",
    "(w1,w2,w3,b, losses) = implement_linear_regression(X,y)\n",
    "plt.plot(losses[:100])\n",
    "plt.xlabel(\"#iteration\")\n",
    "plt.ylabel(\"Loss\")\n",
    "plt.show()"
   ]
  },
  {
   "cell_type": "code",
   "execution_count": 20,
   "metadata": {},
   "outputs": [
    {
     "name": "stdout",
     "output_type": "stream",
     "text": [
      "0.07405984066396477 0.15917360263437663 0.017561197559948935\n"
     ]
    }
   ],
   "source": [
    "#Multiple choices:\n",
    "#Question 8:\n",
    "X,y = prepare_data('advertising.csv')\n",
    "(w1,w2,w3,b, losses) = implement_linear_regression(X,y)\n",
    "print(w1,w2,w3)"
   ]
  },
  {
   "cell_type": "code",
   "execution_count": 21,
   "metadata": {},
   "outputs": [
    {
     "name": "stdout",
     "output_type": "stream",
     "text": [
      "predicted sales is 8.176413319549823\n"
     ]
    }
   ],
   "source": [
    "#Multiple choices:\n",
    "#Question 9:\n",
    "# given new data\n",
    "tv = 19.2\n",
    "radio = 35.9 \n",
    "newspaper = 51.3\n",
    "\n",
    "X,y = prepare_data('advertising.csv')\n",
    "(w1,w2,w3,b, losses) = implement_linear_regression(X,y)\n",
    "sales = predict(tv, radio, newspaper, w1, w2, w3, b)\n",
    "print(f'predicted sales is {sales}')"
   ]
  },
  {
   "cell_type": "code",
   "execution_count": 22,
   "metadata": {},
   "outputs": [
    {
     "name": "stdout",
     "output_type": "stream",
     "text": [
      "predicted sales is 24.412408996908397\n"
     ]
    }
   ],
   "source": [
    "# [230.1, 37.8, 69.2, 22.1]\n",
    "\n",
    "tv = 230.1\n",
    "radio = 37.8 \n",
    "newspaper = 69.2\n",
    "\n",
    "sales = predict(tv, radio, newspaper, w1, w2, w3, b)\n",
    "print(f'predicted sales is {sales}')"
   ]
  },
  {
   "cell_type": "markdown",
   "metadata": {},
   "source": [
    "# Question 3\n",
    "\n",
    "Không dùng hàm Markdown mà dùng hàm MSE"
   ]
  },
  {
   "cell_type": "code",
   "execution_count": 23,
   "metadata": {},
   "outputs": [],
   "source": [
    "\n",
    "def implement_linear_regression_nsamples(X_data, y_data, epoch_max = 50,lr = 1e-5):\n",
    "  losses = []\n",
    "\n",
    "  w1, w2, w3, b = initialize_params()\n",
    "  N = len(y_data)\n",
    "\n",
    "  for epoch in range(epoch_max):\n",
    "\n",
    "      loss_total = 0.0\n",
    "      dw1_total = 0.0\n",
    "      dw2_total = 0.0\n",
    "      dw3_total = 0.0\n",
    "      db_total  = 0.0\n",
    "\n",
    "      for i in range(N):\n",
    "          # get a sample\n",
    "          x1 = X_data[0][i]\n",
    "          x2 = X_data[1][i]\n",
    "          x3 = X_data[2][i]\n",
    "\n",
    "          y  = y_data[i]\n",
    "\n",
    "          # print(y)\n",
    "          # compute output \n",
    "          y_hat = predict(x1, x2, x3, w1, w2, w3, b)\n",
    "          \n",
    "          # compute loss \n",
    "          loss = compute_loss_mse(y, y_hat)\n",
    "\n",
    "          # accumulate loss to total loss\n",
    "          loss_total += loss\n",
    "\n",
    "          # compute gradient w1, w2, w3, b\n",
    "          dl_dw1 = compute_gradient_wi(x1, y, y_hat)\n",
    "          dl_dw2 = compute_gradient_wi(x2, y, y_hat)\n",
    "          dl_dw3 = compute_gradient_wi(x3, y, y_hat)\n",
    "          dl_db  = compute_gradient_b(y, y_hat)\n",
    "\n",
    "         # accumulate gradient w1, w2, w3, b\n",
    "          dw1_total += dl_dw1\n",
    "          dw2_total += dl_dw2\n",
    "          dw3_total += dl_dw3\n",
    "          db_total += dl_db\n",
    "         #your code here *****************************\n",
    "\n",
    "      # (after processing N samples) - update parameters\n",
    "      #your code here *****************************\n",
    "      loss_total /= N\n",
    "      dw1_total /= N\n",
    "      dw2_total /= N\n",
    "      dw3_total /= N\n",
    "      db_total /= N\n",
    "\n",
    "      w1 = update_weight_wi(w1, dw1_total, lr)\n",
    "      w2 = update_weight_wi(w2, dw2_total, lr)\n",
    "      w3 = update_weight_wi(w3, dw3_total, lr)\n",
    "      b  = update_weight_b(b, db_total, lr)\n",
    "\n",
    "      # logging\n",
    "      losses.append(loss_total) \n",
    "  return (w1,w2,w3,b, losses)"
   ]
  },
  {
   "cell_type": "code",
   "execution_count": 24,
   "metadata": {},
   "outputs": [
    {
     "data": {
      "image/png": "[encoded data removed]",
      "text/plain": [
       "<Figure size 640x480 with 1 Axes>"
      ]
     },
     "metadata": {},
     "output_type": "display_data"
    }
   ],
   "source": [
    "X,y = prepare_data('advertising.csv')\n",
    "(w1,w2,w3,b, losses) = implement_linear_regression_nsamples(X,y,1000)\n",
    "plt.plot(losses)\n",
    "plt.xlabel(\"#epoch\")\n",
    "plt.ylabel(\"MAE Loss\")\n",
    "plt.show()"
   ]
  },
  {
   "cell_type": "code",
   "execution_count": 25,
   "metadata": {},
   "outputs": [
    {
     "name": "stdout",
     "output_type": "stream",
     "text": [
      "0.06710990754044266 0.15756173831487585 0.029619799386084403\n"
     ]
    }
   ],
   "source": [
    "#Multiple choices:\n",
    "#Question 11:\n",
    "X,y = prepare_data('advertising.csv')\n",
    "(w1,w2,w3,b, losses) = implement_linear_regression_nsamples(X,y,1000)\n",
    "print(w1,w2,w3)"
   ]
  }
 ],
 "metadata": {
  "kernelspec": {
   "display_name": "Python 3",
   "language": "python",
   "name": "python3"
  },
  "language_info": {
   "codemirror_mode": {
    "name": "ipython",
    "version": 3
   },
   "file_extension": ".py",
   "mimetype": "text/x-python",
   "name": "python",
   "nbconvert_exporter": "python",
   "pygments_lexer": "ipython3",
   "version": "3.12.0"
  }
 },
 "nbformat": 4,
 "nbformat_minor": 2
}
